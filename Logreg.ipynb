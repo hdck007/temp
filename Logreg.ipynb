{
 "cells": [
  {
   "cell_type": "code",
   "execution_count": 12,
   "id": "d2762765",
   "metadata": {},
   "outputs": [],
   "source": [
    "%matplotlib inline"
   ]
  },
  {
   "cell_type": "code",
   "execution_count": 13,
   "id": "4b73001f",
   "metadata": {},
   "outputs": [],
   "source": [
    "import numpy as np \n",
    "import matplotlib.pyplot as plt\n",
    "\n",
    "from sklearn.linear_model import LogisticRegression\n",
    "import pandas as pd\n",
    "from sklearn.model_selection import train_test_split\n",
    "from sklearn.metrics import accuracy_score\n",
    "\n",
    "np.random.seed(0)"
   ]
  },
  {
   "cell_type": "code",
   "execution_count": 14,
   "id": "f6520c27",
   "metadata": {},
   "outputs": [],
   "source": [
    "from sklearn import datasets\n",
    "X, y = datasets.load_diabetes(return_X_y=True)"
   ]
  },
  {
   "cell_type": "code",
   "execution_count": 15,
   "id": "18ef1084",
   "metadata": {},
   "outputs": [
    {
     "data": {
      "text/plain": [
       "(442, 10)"
      ]
     },
     "execution_count": 15,
     "metadata": {},
     "output_type": "execute_result"
    }
   ],
   "source": [
    "X.shape"
   ]
  },
  {
   "cell_type": "code",
   "execution_count": 16,
   "id": "3259b7cb",
   "metadata": {},
   "outputs": [],
   "source": [
    "def gen_target(X):\n",
    "    return X < 0.5"
   ]
  },
  {
   "cell_type": "code",
   "execution_count": 17,
   "id": "d3930c77",
   "metadata": {},
   "outputs": [],
   "source": [
    "# n_records = 30\n",
    "# X = np.sort(np.random.rand(n_records))\n",
    "# y = gen_target(X)\n",
    "\n",
    "# X = X.reshape(-1,1)"
   ]
  },
  {
   "cell_type": "code",
   "execution_count": 18,
   "id": "6cd000b2",
   "metadata": {},
   "outputs": [
    {
     "name": "stdout",
     "output_type": "stream",
     "text": [
      "Number of training examples:  442\n",
      "Number of predictors:  1\n"
     ]
    }
   ],
   "source": [
    "print('Number of training examples: ', X.shape[0])\n",
    "print('Number of predictors: ', y.shape[1] if len(y.shape)>1 else 1)"
   ]
  },
  {
   "cell_type": "code",
   "execution_count": 19,
   "id": "5facc01f",
   "metadata": {},
   "outputs": [
    {
     "name": "stdout",
     "output_type": "stream",
     "text": [
      "Coefficients: \n",
      "\n",
      "Cpeff-0: -0.0171\n",
      "Cpeff-1: -0.0463\n",
      "Cpeff-2: -0.0097\n",
      "Cpeff-3: 0.0020\n",
      "Cpeff-4: -0.0366\n",
      "Cpeff-5: -0.0347\n",
      "Cpeff-6: 0.0119\n",
      "Cpeff-7: -0.0397\n",
      "Cpeff-8: -0.0212\n",
      "Cpeff-9: -0.0339\n"
     ]
    },
    {
     "data": {
      "image/png": "[encoded data removed]",
      "text/plain": [
       "<Figure size 640x480 with 1 Axes>"
      ]
     },
     "metadata": {},
     "output_type": "display_data"
    },
    {
     "name": "stdout",
     "output_type": "stream",
     "text": [
      "\n",
      "Accuracy: 0.0000\n"
     ]
    }
   ],
   "source": [
    "X_train, X_test, y_train, y_test = train_test_split(X, y, test_size=0.2)\n",
    "lr = LogisticRegression()\n",
    "lr.fit(X_train,y_train)\n",
    "y_pred = lr.predict(X_test)\n",
    "\n",
    "\n",
    "print(\"Coefficients: \\n\")\n",
    "for li, coef in enumerate(lr.coef_[0]):\n",
    "    print('Cpeff-{0:d}: {1:2.4f}'.format(li, coef))\n",
    "    \n",
    "plt.bar(range(len(lr.coef_[0])),lr.coef_[0])\n",
    "plt.xticks(range(len(lr.coef_[0])))\n",
    "plt.xlabel('Index')\n",
    "plt.ylabel('Coefficient')\n",
    "plt.show()\n",
    "\n",
    "print('\\nAccuracy: {:2.4f}'.format(accuracy_score(y_test, y_pred)))\n"
   ]
  },
  {
   "cell_type": "code",
   "execution_count": 20,
   "id": "c52484be",
   "metadata": {},
   "outputs": [
    {
     "data": {
      "text/plain": [
       "array([ 25.,  31.,  37.,  39.,  40.,  42.,  43.,  44.,  45.,  47.,  48.,\n",
       "        50.,  51.,  52.,  53.,  54.,  55.,  58.,  59.,  60.,  61.,  63.,\n",
       "        64.,  65.,  66.,  67.,  68.,  69.,  70.,  71.,  72.,  73.,  74.,\n",
       "        75.,  77.,  78.,  79.,  80.,  81.,  83.,  84.,  85.,  87.,  88.,\n",
       "        89.,  90.,  91.,  92.,  93.,  94.,  95.,  96.,  97.,  99., 100.,\n",
       "       101., 102., 104., 107., 108., 109., 110., 111., 113., 114., 115.,\n",
       "       116., 118., 120., 121., 122., 123., 124., 125., 126., 127., 128.,\n",
       "       129., 131., 132., 134., 135., 137., 138., 139., 140., 141., 142.,\n",
       "       143., 144., 145., 146., 147., 148., 150., 151., 152., 153., 154.,\n",
       "       155., 158., 160., 161., 162., 163., 164., 166., 167., 168., 170.,\n",
       "       172., 173., 174., 177., 178., 180., 181., 182., 183., 184., 185.,\n",
       "       187., 189., 190., 191., 192., 196., 197., 198., 199., 200., 201.,\n",
       "       202., 206., 208., 209., 210., 212., 214., 216., 217., 219., 220.,\n",
       "       221., 222., 225., 229., 230., 232., 233., 235., 236., 237., 241.,\n",
       "       242., 243., 245., 246., 248., 249., 252., 253., 257., 258., 259.,\n",
       "       261., 262., 263., 265., 268., 270., 272., 273., 274., 275., 277.,\n",
       "       279., 280., 281., 283., 288., 292., 293., 295., 296., 303., 306.,\n",
       "       308., 310., 311., 332., 336., 341., 346.])"
      ]
     },
     "execution_count": 20,
     "metadata": {},
     "output_type": "execute_result"
    }
   ],
   "source": [
    "lr.classes_"
   ]
  }
 ],
 "metadata": {
  "kernelspec": {
   "display_name": "Python 3 (ipykernel)",
   "language": "python",
   "name": "python3"
  },
  "language_info": {
   "codemirror_mode": {
    "name": "ipython",
    "version": 3
   },
   "file_extension": ".py",
   "mimetype": "text/x-python",
   "name": "python",
   "nbconvert_exporter": "python",
   "pygments_lexer": "ipython3",
   "version": "3.9.13"
  }
 },
 "nbformat": 4,
 "nbformat_minor": 5
}
